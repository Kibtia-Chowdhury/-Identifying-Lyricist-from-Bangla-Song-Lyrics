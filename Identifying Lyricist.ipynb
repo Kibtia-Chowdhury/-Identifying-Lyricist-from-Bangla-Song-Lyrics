{
  "nbformat": 4,
  "nbformat_minor": 0,
  "metadata": {
    "colab": {
      "provenance": []
    },
    "kernelspec": {
      "name": "python3",
      "display_name": "Python 3"
    }
  },
  "cells": [
    {
      "cell_type": "code",
      "metadata": {
        "id": "jVAzngt45h3U"
      },
      "source": [
        "#Import packages\n",
        "import pickle\n",
        "import re\n",
        "import string\n",
        "import unicodedata\n",
        "import numpy as np\n",
        "import pandas as pd\n",
        "from sklearn.preprocessing import LabelEncoder\n",
        "from sklearn.metrics import accuracy_score\n",
        "from sklearn.metrics import plot_confusion_matrix\n",
        "import matplotlib.pyplot as plt"
      ],
      "execution_count": null,
      "outputs": []
    },
    {
      "cell_type": "markdown",
      "metadata": {
        "id": "fDAajV7o7Hhw"
      },
      "source": [
        "**DATASET**"
      ]
    },
    {
      "cell_type": "code",
      "metadata": {
        "id": "-QOuWwWd6GiU",
        "colab": {
          "base_uri": "https://localhost:8080/",
          "height": 198
        },
        "outputId": "a3eb927f-6a96-425e-9fb2-a3f7ec553841"
      },
      "source": [
        "#Load Dataset\n",
        "df = pd.read_csv('/content/dataset_1.txt')\n",
        "df.head()"
      ],
      "execution_count": null,
      "outputs": [
        {
          "output_type": "execute_result",
          "data": {
            "text/html": [
              "<div>\n",
              "<style scoped>\n",
              "    .dataframe tbody tr th:only-of-type {\n",
              "        vertical-align: middle;\n",
              "    }\n",
              "\n",
              "    .dataframe tbody tr th {\n",
              "        vertical-align: top;\n",
              "    }\n",
              "\n",
              "    .dataframe thead th {\n",
              "        text-align: right;\n",
              "    }\n",
              "</style>\n",
              "<table border=\"1\" class=\"dataframe\">\n",
              "  <thead>\n",
              "    <tr style=\"text-align: right;\">\n",
              "      <th></th>\n",
              "      <th>lyrics</th>\n",
              "      <th>name</th>\n",
              "    </tr>\n",
              "  </thead>\n",
              "  <tbody>\n",
              "    <tr>\n",
              "      <th>0</th>\n",
              "      <td>মোমের পুতুল মমীর দেশের মেয়ে নেচে যায় বিহবল চ...</td>\n",
              "      <td>1.0</td>\n",
              "    </tr>\n",
              "    <tr>\n",
              "      <th>1</th>\n",
              "      <td>লাল টুকটুকে বৌ যায় গো লাল ন টের ক্ষেতে যে তার ...</td>\n",
              "      <td>1.0</td>\n",
              "    </tr>\n",
              "    <tr>\n",
              "      <th>2</th>\n",
              "      <td>অরুণকান্তি কে গো যোগী ভিখারী নীরবে হেসে দাঁড়াই...</td>\n",
              "      <td>1.0</td>\n",
              "    </tr>\n",
              "    <tr>\n",
              "      <th>3</th>\n",
              "      <td>দ্বীপ নিভিয়াছে ঝড়ে জেগে আছে মোর আঁখি কে যেন কহ...</td>\n",
              "      <td>1.0</td>\n",
              "    </tr>\n",
              "    <tr>\n",
              "      <th>4</th>\n",
              "      <td>তোমারি আঁখির মত আকাশের দুটি তারা চেয়ে থাকে মোর...</td>\n",
              "      <td>1.0</td>\n",
              "    </tr>\n",
              "  </tbody>\n",
              "</table>\n",
              "</div>"
            ],
            "text/plain": [
              "                                              lyrics  name\n",
              "0  মোমের পুতুল মমীর দেশের মেয়ে নেচে যায় বিহবল চ...   1.0\n",
              "1  লাল টুকটুকে বৌ যায় গো লাল ন টের ক্ষেতে যে তার ...   1.0\n",
              "2  অরুণকান্তি কে গো যোগী ভিখারী নীরবে হেসে দাঁড়াই...   1.0\n",
              "3  দ্বীপ নিভিয়াছে ঝড়ে জেগে আছে মোর আঁখি কে যেন কহ...   1.0\n",
              "4  তোমারি আঁখির মত আকাশের দুটি তারা চেয়ে থাকে মোর...   1.0"
            ]
          },
          "metadata": {
            "tags": []
          },
          "execution_count": 2
        }
      ]
    },
    {
      "cell_type": "markdown",
      "metadata": {
        "id": "PnGIvgc07vin"
      },
      "source": [
        "**SPLI**T **DATASET**"
      ]
    },
    {
      "cell_type": "code",
      "metadata": {
        "id": "QnZGr1z46J_N",
        "colab": {
          "base_uri": "https://localhost:8080/"
        },
        "outputId": "b04c5fe1-17ca-4115-ac81-ed81835ea9bd"
      },
      "source": [
        "#Split Dataset into Train and Test\n",
        "x = df.loc[:, 'lyrics'].values\n",
        "y = df.loc[:, 'name'].values\n",
        "print(x.shape)\n",
        "print(y.shape)"
      ],
      "execution_count": null,
      "outputs": [
        {
          "output_type": "stream",
          "text": [
            "(359,)\n",
            "(359,)\n"
          ],
          "name": "stdout"
        }
      ]
    },
    {
      "cell_type": "markdown",
      "metadata": {
        "id": "s4Dq2g8M8FFR"
      },
      "source": [
        "**DATASET preprocessing**"
      ]
    },
    {
      "cell_type": "code",
      "metadata": {
        "id": "UWG1pi076NGM",
        "colab": {
          "base_uri": "https://localhost:8080/"
        },
        "outputId": "ed0b5a3e-9439-4811-f1bc-986413707fb8"
      },
      "source": [
        "#Feature Extraction using Tf-Idf\n",
        "from sklearn.feature_extraction.text import TfidfTransformer\n",
        "from sklearn.feature_extraction.text import TfidfVectorizer\n",
        "vectorizer = TfidfVectorizer()\n",
        "X = vectorizer.fit_transform(x)\n",
        "print(X.shape)\n",
        "#print(Y_train.shape, Y_test.shape)\n",
        "from sklearn import preprocessing\n",
        "le = preprocessing.LabelEncoder()\n",
        "Y = le.fit_transform(y)\n",
        "#Y=y\n",
        "print(Y.shape)\n",
        "print(Y)"
      ],
      "execution_count": null,
      "outputs": [
        {
          "output_type": "stream",
          "text": [
            "(359, 1345)\n",
            "(359,)\n",
            "[ 0  0  0  0  0  0  0  0  0  0  0  0  0  0  0  0  0  0  0  0  0  0  0  0\n",
            "  0  0  0  0  0  0  0  0  0  0  0  0  0  0  0  0  0  0  0  0  0  0  0  0\n",
            "  0  0  1  1  1  1  1  1  1  1  1  1  1  1  1  1  1  1  1  1  1  1  1  1\n",
            "  1  1  1  1  1  1  1  1  1  1  1  1  1  1  1  1  1  1  1  1  1  1  1  1\n",
            "  1  1  1  1  2  2  2  2  2  2  2  2  2  2  2  2  2  2  2  2  2  2  2  2\n",
            "  2  2  2  2  2  2  2  2  2  2  2  2  2  2  2  2  2  2  2  2  2  2  2  2\n",
            "  2  2  2  2  2  2  2  2  2  2  2  2  2  2  3  3  3  3  3  3  3  3  3  3\n",
            "  3  3  3  3  3  3  3  3  3  3  3  3  3  3  3  3  3  3  3  3  3  3  3  3\n",
            "  3  3  3  3  3  3  3  4  4  4  4  4  4  4  4  4  4  4  4  4  4  4  4  4\n",
            "  4  4  4  4  4  4  4  4  4  4  5  5  5  5  5  5  5  5  5  5  5  5  5  5\n",
            "  5  5  5  5  6  6  6  6  6  6  6  6  6  6  6  6  6  6  6  7  7  7  7  7\n",
            "  7  7  7  7  7  7  7  7  7  7  8  8  8  8  8  8  8  8  8  8  8  8  8  8\n",
            "  8  8  8  8  8  8  8  8  8  8  8  8  8  8  8  8  8  8  8  8  8  9  9  9\n",
            "  9  9  9  9  9  9  9  9  9  9  9  9  9  9  9  9  9  9  9 11 10 10 10 10\n",
            " 10 10 10 10 10 10 10 10 10 10 10 10 10 10 10 10 10 10 10 10 10 10 10]\n"
          ],
          "name": "stdout"
        }
      ]
    },
    {
      "cell_type": "markdown",
      "metadata": {
        "id": "giUh6udb8ZJs"
      },
      "source": [
        "**TRAIN TEST SPLIT METHOD**"
      ]
    },
    {
      "cell_type": "code",
      "metadata": {
        "id": "Kv_i61B-6Q-p",
        "colab": {
          "base_uri": "https://localhost:8080/"
        },
        "outputId": "0db0245f-537a-4215-89f4-cd6d5b4a9f28"
      },
      "source": [
        "from sklearn.model_selection import train_test_split\n",
        "X_train,X_test,Y_train,Y_test = train_test_split(X,Y,test_size=0.2)\n",
        "print(X_train.shape, X_test.shape)\n",
        "print(Y_train.shape, Y_test.shape)"
      ],
      "execution_count": null,
      "outputs": [
        {
          "output_type": "stream",
          "text": [
            "(287, 1345) (72, 1345)\n",
            "(287,) (72,)\n"
          ],
          "name": "stdout"
        }
      ]
    },
    {
      "cell_type": "markdown",
      "metadata": {
        "id": "soPKVn6t8hQ4"
      },
      "source": [
        "**Naive Bayes Algorithm**"
      ]
    },
    {
      "cell_type": "code",
      "metadata": {
        "id": "WZXFDLtW6UI8",
        "colab": {
          "base_uri": "https://localhost:8080/",
          "height": 903
        },
        "outputId": "7ad200f0-ace8-4fb2-cf00-c9bf01636f2e"
      },
      "source": [
        "#Naive Bayes Algorithm\n",
        "from sklearn.naive_bayes import MultinomialNB\n",
        "from sklearn.metrics import classification_report, confusion_matrix\n",
        "model = MultinomialNB().fit(X_train, Y_train)\n",
        "# Predict Output\n",
        "NBpred = model.predict(X_test)\n",
        "print(\"Train Accuracy :: \", accuracy_score(Y_train,model.predict(X_train)))\n",
        "print(\"Test Accuracy  :: \", accuracy_score(Y_test, NBpred))\n",
        "cm1=confusion_matrix(Y_test, NBpred)\n",
        "print(confusion_matrix(Y_test, NBpred))\n",
        "print(classification_report(Y_test, NBpred))\n",
        "#SVC(random_state=0)\n",
        "plot_confusion_matrix(model, X_test, Y_test)  # doctest: +SKIP\n",
        "plt.show()"
      ],
      "execution_count": null,
      "outputs": [
        {
          "output_type": "stream",
          "text": [
            "Train Accuracy ::  0.6445993031358885\n",
            "Test Accuracy  ::  0.3333333333333333\n",
            "[[3 1 3 0 0 0 0 0 0 0 0]\n",
            " [1 9 3 0 0 0 0 0 0 0 0]\n",
            " [2 1 8 0 0 0 0 0 0 0 0]\n",
            " [2 0 2 4 0 0 0 0 0 0 0]\n",
            " [4 1 1 0 0 0 0 0 1 0 0]\n",
            " [1 0 1 1 0 0 0 0 0 0 0]\n",
            " [1 0 0 1 0 0 0 0 0 0 0]\n",
            " [2 1 0 0 0 0 0 0 0 0 0]\n",
            " [1 2 3 0 0 0 0 0 0 0 0]\n",
            " [1 1 0 1 0 0 0 0 0 0 0]\n",
            " [4 2 3 0 0 0 0 0 0 0 0]]\n",
            "              precision    recall  f1-score   support\n",
            "\n",
            "           0       0.14      0.43      0.21         7\n",
            "           1       0.50      0.69      0.58        13\n",
            "           2       0.33      0.73      0.46        11\n",
            "           3       0.57      0.50      0.53         8\n",
            "           4       0.00      0.00      0.00         7\n",
            "           5       0.00      0.00      0.00         3\n",
            "           6       0.00      0.00      0.00         2\n",
            "           7       0.00      0.00      0.00         3\n",
            "           8       0.00      0.00      0.00         6\n",
            "           9       0.00      0.00      0.00         3\n",
            "          10       0.00      0.00      0.00         9\n",
            "\n",
            "    accuracy                           0.33        72\n",
            "   macro avg       0.14      0.21      0.16        72\n",
            "weighted avg       0.22      0.33      0.25        72\n",
            "\n"
          ],
          "name": "stdout"
        },
        {
          "output_type": "stream",
          "text": [
            "/usr/local/lib/python3.6/dist-packages/sklearn/metrics/_classification.py:1272: UndefinedMetricWarning: Precision and F-score are ill-defined and being set to 0.0 in labels with no predicted samples. Use `zero_division` parameter to control this behavior.\n",
            "  _warn_prf(average, modifier, msg_start, len(result))\n"
          ],
          "name": "stderr"
        },
        {
          "output_type": "display_data",
          "data": {
            "image/png": "[encoded data removed]",
            "text/plain": [
              "<Figure size 432x288 with 2 Axes>"
            ]
          },
          "metadata": {
            "tags": [],
            "needs_background": "light"
          }
        }
      ]
    },
    {
      "cell_type": "markdown",
      "metadata": {
        "id": "yFCsDrVF9O1M"
      },
      "source": [
        "**K-FOLD (K=10)**"
      ]
    },
    {
      "cell_type": "code",
      "metadata": {
        "id": "RAFNH80j9MhV",
        "colab": {
          "base_uri": "https://localhost:8080/"
        },
        "outputId": "e14a39b8-d3e4-45c5-8dc6-c6206331e4f6"
      },
      "source": [
        "from sklearn.model_selection import cross_val_score\n",
        "from sklearn import naive_bayes\n",
        "clf = naive_bayes.MultinomialNB()\n",
        "scores = cross_val_score(clf, X, Y, cv=10) #CV means K\n",
        "print(scores)\n",
        "print(\"Accuracy: %0.2f (+/- %0.2f)\" % (scores.mean(), scores.std() * 2))"
      ],
      "execution_count": null,
      "outputs": [
        {
          "output_type": "stream",
          "text": [
            "[0.41666667 0.30555556 0.41666667 0.44444444 0.30555556 0.36111111\n",
            " 0.30555556 0.38888889 0.41666667 0.37142857]\n",
            "Accuracy: 0.37 (+/- 0.10)\n"
          ],
          "name": "stdout"
        },
        {
          "output_type": "stream",
          "text": [
            "/usr/local/lib/python3.6/dist-packages/sklearn/model_selection/_split.py:667: UserWarning: The least populated class in y has only 1 members, which is less than n_splits=10.\n",
            "  % (min_groups, self.n_splits)), UserWarning)\n"
          ],
          "name": "stderr"
        }
      ]
    },
    {
      "cell_type": "markdown",
      "metadata": {
        "id": "aP7dl9bR84yR"
      },
      "source": [
        "**K-FOLD (K=5)**"
      ]
    },
    {
      "cell_type": "code",
      "metadata": {
        "id": "AS14o98Q9NDN",
        "colab": {
          "base_uri": "https://localhost:8080/"
        },
        "outputId": "dea1ea38-508b-4a77-90c5-b032064c7a47"
      },
      "source": [
        "from sklearn.model_selection import cross_val_score\n",
        "from sklearn import naive_bayes\n",
        "clf = naive_bayes.MultinomialNB()\n",
        "scores = cross_val_score(clf, X, Y, cv=5) #CV means K\n",
        "print(scores)\n",
        "print(\"Accuracy: %0.2f (+/- %0.2f)\" % (scores.mean(), scores.std() * 2))"
      ],
      "execution_count": null,
      "outputs": [
        {
          "output_type": "stream",
          "text": [
            "[0.33333333 0.44444444 0.30555556 0.31944444 0.35211268]\n",
            "Accuracy: 0.35 (+/- 0.10)\n"
          ],
          "name": "stdout"
        },
        {
          "output_type": "stream",
          "text": [
            "/usr/local/lib/python3.6/dist-packages/sklearn/model_selection/_split.py:667: UserWarning: The least populated class in y has only 1 members, which is less than n_splits=5.\n",
            "  % (min_groups, self.n_splits)), UserWarning)\n"
          ],
          "name": "stderr"
        }
      ]
    },
    {
      "cell_type": "markdown",
      "metadata": {
        "id": "Z94D2gS99iGK"
      },
      "source": [
        "**JACKKNIFE for NB**"
      ]
    },
    {
      "cell_type": "code",
      "metadata": {
        "id": "H0OrY_k7J0TW",
        "colab": {
          "base_uri": "https://localhost:8080/"
        },
        "outputId": "7cf10515-742c-4cac-ffe3-37e538753a52"
      },
      "source": [
        "from sklearn import naive_bayes\n",
        "from sklearn.model_selection import LeaveOneOut\n",
        "from sklearn.model_selection import cross_val_score\n",
        "#from sklearn.model_selection import train_test_split\n",
        "loocv = LeaveOneOut()\n",
        "clf = naive_bayes.MultinomialNB()\n",
        "results_loocv = cross_val_score(clf, X, Y, cv=loocv)\n",
        "#print(results_loocv)\n",
        "#results_loocv.shape\n",
        "print(\"Accuracy: %.2f%%\" % (results_loocv.mean()*100.0))"
      ],
      "execution_count": null,
      "outputs": [
        {
          "output_type": "stream",
          "text": [
            "Accuracy: 35.65%\n"
          ],
          "name": "stdout"
        }
      ]
    },
    {
      "cell_type": "markdown",
      "metadata": {
        "id": "mCO-W-n_-k7P"
      },
      "source": [
        "**Decision Tree Algorithm**"
      ]
    },
    {
      "cell_type": "code",
      "metadata": {
        "id": "MO9cVAot6YSq",
        "colab": {
          "base_uri": "https://localhost:8080/",
          "height": 846
        },
        "outputId": "28aef386-0413-46a2-c46b-db34c19a44c9"
      },
      "source": [
        "#Decision Tree Algorithm\n",
        "from sklearn.tree import DecisionTreeClassifier\n",
        "from sklearn.metrics import classification_report, confusion_matrix\n",
        "classifier = DecisionTreeClassifier()\n",
        "classifier.fit(X_train, Y_train)\n",
        "Y_pred = classifier.predict(X_test)\n",
        "print(\"Train Accuracy :: \", accuracy_score(Y_train,classifier.predict(X_train)))\n",
        "print(\"Test Accuracy  :: \", accuracy_score(Y_test, Y_pred))\n",
        "cm1=confusion_matrix(Y_test, Y_pred)\n",
        "print(confusion_matrix(Y_test, Y_pred))\n",
        "print(classification_report(Y_test, Y_pred))\n",
        "plot_confusion_matrix(model, X_test, Y_test)  # doctest: +SKIP\n",
        "plt.show()"
      ],
      "execution_count": null,
      "outputs": [
        {
          "output_type": "stream",
          "text": [
            "Train Accuracy ::  1.0\n",
            "Test Accuracy  ::  0.19444444444444445\n",
            "[[1 0 4 0 1 0 0 0 1 0 0]\n",
            " [2 1 1 1 1 0 1 1 2 1 2]\n",
            " [2 1 4 0 0 0 0 1 2 1 0]\n",
            " [1 2 0 5 0 0 0 0 0 0 0]\n",
            " [1 0 2 1 0 0 1 1 1 0 0]\n",
            " [0 1 0 0 0 1 0 0 1 0 0]\n",
            " [0 0 1 0 1 0 0 0 0 0 0]\n",
            " [2 0 0 0 0 0 0 0 0 0 1]\n",
            " [1 1 0 1 0 0 1 0 1 1 0]\n",
            " [0 1 1 0 0 0 0 0 1 0 0]\n",
            " [1 1 2 0 1 0 0 1 1 1 1]]\n",
            "              precision    recall  f1-score   support\n",
            "\n",
            "           0       0.09      0.14      0.11         7\n",
            "           1       0.12      0.08      0.10        13\n",
            "           2       0.27      0.36      0.31        11\n",
            "           3       0.62      0.62      0.62         8\n",
            "           4       0.00      0.00      0.00         7\n",
            "           5       1.00      0.33      0.50         3\n",
            "           6       0.00      0.00      0.00         2\n",
            "           7       0.00      0.00      0.00         3\n",
            "           8       0.10      0.17      0.12         6\n",
            "           9       0.00      0.00      0.00         3\n",
            "          10       0.25      0.11      0.15         9\n",
            "\n",
            "    accuracy                           0.19        72\n",
            "   macro avg       0.22      0.17      0.17        72\n",
            "weighted avg       0.22      0.19      0.19        72\n",
            "\n"
          ],
          "name": "stdout"
        },
        {
          "output_type": "display_data",
          "data": {
            "image/png": "[encoded data removed]",
            "text/plain": [
              "<Figure size 432x288 with 2 Axes>"
            ]
          },
          "metadata": {
            "tags": [],
            "needs_background": "light"
          }
        }
      ]
    },
    {
      "cell_type": "markdown",
      "metadata": {
        "id": "5SIVS8Ic-tuz"
      },
      "source": [
        "**K-FOLD**"
      ]
    },
    {
      "cell_type": "code",
      "metadata": {
        "id": "2juY8MhE9Jas",
        "colab": {
          "base_uri": "https://localhost:8080/"
        },
        "outputId": "af8c692c-bbe6-499c-8855-ef1618f83ddc"
      },
      "source": [
        "from sklearn.model_selection import cross_val_score\n",
        "from sklearn import tree\n",
        "clf = tree.DecisionTreeClassifier()\n",
        "scores = cross_val_score(clf, X, Y, cv=10) #CV means K\n",
        "print(scores)\n",
        "print(\"Accuracy: %0.2f (+/- %0.2f)\" % (scores.mean(), scores.std() * 2))"
      ],
      "execution_count": null,
      "outputs": [
        {
          "output_type": "stream",
          "text": [
            "/usr/local/lib/python3.6/dist-packages/sklearn/model_selection/_split.py:667: UserWarning: The least populated class in y has only 1 members, which is less than n_splits=10.\n",
            "  % (min_groups, self.n_splits)), UserWarning)\n"
          ],
          "name": "stderr"
        },
        {
          "output_type": "stream",
          "text": [
            "[0.33333333 0.30555556 0.30555556 0.25       0.38888889 0.33333333\n",
            " 0.44444444 0.33333333 0.19444444 0.4       ]\n",
            "Accuracy: 0.33 (+/- 0.14)\n"
          ],
          "name": "stdout"
        }
      ]
    },
    {
      "cell_type": "code",
      "metadata": {
        "id": "txMwgMTz9J9y",
        "colab": {
          "base_uri": "https://localhost:8080/"
        },
        "outputId": "bf530ecd-449a-48df-abaf-740a59939ef2"
      },
      "source": [
        "from sklearn.model_selection import cross_val_score\n",
        "from sklearn import tree\n",
        "clf = tree.DecisionTreeClassifier()\n",
        "scores = cross_val_score(clf, X, Y, cv=5) #CV means K\n",
        "print(scores)\n",
        "print(\"Accuracy: %0.2f (+/- %0.2f)\" % (scores.mean(), scores.std() * 2))"
      ],
      "execution_count": null,
      "outputs": [
        {
          "output_type": "stream",
          "text": [
            "[0.33333333 0.30555556 0.27777778 0.31944444 0.35211268]\n",
            "Accuracy: 0.32 (+/- 0.05)\n"
          ],
          "name": "stdout"
        },
        {
          "output_type": "stream",
          "text": [
            "/usr/local/lib/python3.6/dist-packages/sklearn/model_selection/_split.py:667: UserWarning: The least populated class in y has only 1 members, which is less than n_splits=5.\n",
            "  % (min_groups, self.n_splits)), UserWarning)\n"
          ],
          "name": "stderr"
        }
      ]
    },
    {
      "cell_type": "markdown",
      "metadata": {
        "id": "pDOEcprPUSEQ"
      },
      "source": [
        "**JACKKNIFE**"
      ]
    },
    {
      "cell_type": "code",
      "metadata": {
        "id": "z3N7qT4yUNcb",
        "colab": {
          "base_uri": "https://localhost:8080/"
        },
        "outputId": "59a32586-252e-455b-b5cf-83105083d479"
      },
      "source": [
        "from sklearn import tree\n",
        "from sklearn.model_selection import LeaveOneOut\n",
        "from sklearn.model_selection import cross_val_score\n",
        "\n",
        "loocv = LeaveOneOut()\n",
        "clf = tree.DecisionTreeClassifier()\n",
        "results_loocv = cross_val_score(clf, X, Y, cv=loocv)\n",
        "#print(results_loocv)\n",
        "results_loocv.shape\n",
        "print(\"Accuracy: %.2f%%\" % (results_loocv.mean()*100.0))"
      ],
      "execution_count": null,
      "outputs": [
        {
          "output_type": "stream",
          "text": [
            "Accuracy: 32.03%\n"
          ],
          "name": "stdout"
        }
      ]
    },
    {
      "cell_type": "markdown",
      "metadata": {
        "id": "9EWIgFGJ-yVh"
      },
      "source": [
        "**SVM Algorithm**"
      ]
    },
    {
      "cell_type": "code",
      "metadata": {
        "id": "jpJlSTyU6cr1",
        "colab": {
          "base_uri": "https://localhost:8080/",
          "height": 903
        },
        "outputId": "dd9b9236-a069-4810-ed5a-5cd73a4a7ed1"
      },
      "source": [
        "#SVM Algorithm\n",
        "from sklearn.svm import SVC,SVR\n",
        "from sklearn.metrics import classification_report, confusion_matrix\n",
        "from sklearn.metrics import plot_confusion_matrix\n",
        "import matplotlib.pyplot as plt\n",
        "\n",
        "svclassifier = SVC(kernel='linear')\n",
        "svclassifier.fit(X_train, Y_train)\n",
        "SVM_pred = svclassifier.predict(X_test)\n",
        "print(\"Train Accuracy :: \", accuracy_score(Y_train,svclassifier.predict(X_train)))\n",
        "print(\"Test Accuracy  :: \", accuracy_score(Y_test, SVM_pred))\n",
        "cm1=confusion_matrix(Y_test, SVM_pred)\n",
        "print(confusion_matrix(Y_test, SVM_pred))\n",
        "print(classification_report(Y_test, SVM_pred))\n",
        "SVC(random_state=0)\n",
        "plot_confusion_matrix(svclassifier, X_test, Y_test)  # doctest: +SKIP\n",
        "plt.show()"
      ],
      "execution_count": null,
      "outputs": [
        {
          "output_type": "stream",
          "text": [
            "Train Accuracy ::  0.9581881533101045\n",
            "Test Accuracy  ::  0.4166666666666667\n",
            "[[2 1 4 0 0 0 0 0 0 0 0]\n",
            " [0 8 3 0 0 0 0 0 2 0 0]\n",
            " [3 0 6 0 0 0 0 0 2 0 0]\n",
            " [0 0 0 8 0 0 0 0 0 0 0]\n",
            " [0 2 1 0 2 0 0 0 2 0 0]\n",
            " [0 0 0 0 0 1 0 1 0 1 0]\n",
            " [0 0 0 0 0 0 0 0 1 0 1]\n",
            " [2 1 0 0 0 0 0 0 0 0 0]\n",
            " [0 1 3 0 0 0 0 0 2 0 0]\n",
            " [1 0 0 2 0 0 0 0 0 0 0]\n",
            " [3 1 3 0 0 0 0 0 1 0 1]]\n",
            "              precision    recall  f1-score   support\n",
            "\n",
            "           0       0.18      0.29      0.22         7\n",
            "           1       0.57      0.62      0.59        13\n",
            "           2       0.30      0.55      0.39        11\n",
            "           3       0.80      1.00      0.89         8\n",
            "           4       1.00      0.29      0.44         7\n",
            "           5       1.00      0.33      0.50         3\n",
            "           6       0.00      0.00      0.00         2\n",
            "           7       0.00      0.00      0.00         3\n",
            "           8       0.20      0.33      0.25         6\n",
            "           9       0.00      0.00      0.00         3\n",
            "          10       0.50      0.11      0.18         9\n",
            "\n",
            "    accuracy                           0.42        72\n",
            "   macro avg       0.41      0.32      0.32        72\n",
            "weighted avg       0.47      0.42      0.39        72\n",
            "\n"
          ],
          "name": "stdout"
        },
        {
          "output_type": "stream",
          "text": [
            "/usr/local/lib/python3.6/dist-packages/sklearn/metrics/_classification.py:1272: UndefinedMetricWarning: Precision and F-score are ill-defined and being set to 0.0 in labels with no predicted samples. Use `zero_division` parameter to control this behavior.\n",
            "  _warn_prf(average, modifier, msg_start, len(result))\n"
          ],
          "name": "stderr"
        },
        {
          "output_type": "display_data",
          "data": {
            "image/png": "[encoded data removed]",
            "text/plain": [
              "<Figure size 432x288 with 2 Axes>"
            ]
          },
          "metadata": {
            "tags": [],
            "needs_background": "light"
          }
        }
      ]
    },
    {
      "cell_type": "markdown",
      "metadata": {
        "id": "iG0LdMnP-7jQ"
      },
      "source": [
        "**K-FOLD**"
      ]
    },
    {
      "cell_type": "code",
      "metadata": {
        "id": "Ez9eQP1y6hHe",
        "colab": {
          "base_uri": "https://localhost:8080/"
        },
        "outputId": "38c5b98f-a908-454e-e767-9935e5a25032"
      },
      "source": [
        "from sklearn.model_selection import cross_val_score\n",
        "from sklearn import svm\n",
        "clf = svm.SVC(kernel='linear', C=1)\n",
        "scores = cross_val_score(clf, X, Y, cv=10) #CV means K\n",
        "print(scores)\n",
        "\n",
        "print(\"Accuracy: %0.2f (+/- %0.2f)\" % (scores.mean(), scores.std() * 2))"
      ],
      "execution_count": null,
      "outputs": [
        {
          "output_type": "stream",
          "text": [
            "/usr/local/lib/python3.6/dist-packages/sklearn/model_selection/_split.py:667: UserWarning: The least populated class in y has only 1 members, which is less than n_splits=10.\n",
            "  % (min_groups, self.n_splits)), UserWarning)\n"
          ],
          "name": "stderr"
        },
        {
          "output_type": "stream",
          "text": [
            "[0.52777778 0.41666667 0.61111111 0.58333333 0.44444444 0.44444444\n",
            " 0.38888889 0.5        0.58333333 0.51428571]\n",
            "Accuracy: 0.50 (+/- 0.15)\n"
          ],
          "name": "stdout"
        }
      ]
    },
    {
      "cell_type": "code",
      "metadata": {
        "id": "pRbH2am_6_gT",
        "colab": {
          "base_uri": "https://localhost:8080/"
        },
        "outputId": "8733cc08-d441-4583-e141-53a6255f4969"
      },
      "source": [
        "from sklearn.model_selection import cross_val_score\n",
        "from sklearn import svm\n",
        "clf = svm.SVC(kernel='linear', C=1)\n",
        "scores = cross_val_score(clf, X, Y, cv=5) #CV means K\n",
        "print(scores)\n",
        "\n",
        "print(\"Accuracy: %0.2f (+/- %0.2f)\" % (scores.mean(), scores.std() * 2))"
      ],
      "execution_count": null,
      "outputs": [
        {
          "output_type": "stream",
          "text": [
            "/usr/local/lib/python3.6/dist-packages/sklearn/model_selection/_split.py:667: UserWarning: The least populated class in y has only 1 members, which is less than n_splits=5.\n",
            "  % (min_groups, self.n_splits)), UserWarning)\n"
          ],
          "name": "stderr"
        },
        {
          "output_type": "stream",
          "text": [
            "[0.43055556 0.55555556 0.45833333 0.44444444 0.53521127]\n",
            "Accuracy: 0.48 (+/- 0.10)\n"
          ],
          "name": "stdout"
        }
      ]
    },
    {
      "cell_type": "markdown",
      "metadata": {
        "id": "8LeA99ZgVClZ"
      },
      "source": [
        "**JACKKNIFE for SVM**"
      ]
    },
    {
      "cell_type": "code",
      "metadata": {
        "id": "HBG13HgQU6dH",
        "colab": {
          "base_uri": "https://localhost:8080/"
        },
        "outputId": "93cbbdc1-61fb-400d-f231-f305844bacb0"
      },
      "source": [
        "from sklearn import svm\n",
        "from sklearn.model_selection import LeaveOneOut\n",
        "from sklearn.model_selection import cross_val_score\n",
        "loocv = LeaveOneOut()\n",
        "clf = svm.SVC(kernel='linear', C=1)\n",
        "results_loocv = cross_val_score(clf, X, Y, cv=loocv)\n",
        "#print(results_loocv)\n",
        "results_loocv.shape\n",
        "print(\"Accuracy: %.2f%%\" % (results_loocv.mean()*100.0))"
      ],
      "execution_count": null,
      "outputs": [
        {
          "output_type": "stream",
          "text": [
            "Accuracy: 50.97%\n"
          ],
          "name": "stdout"
        }
      ]
    },
    {
      "cell_type": "markdown",
      "metadata": {
        "id": "w7X5c8Yi_BNe"
      },
      "source": [
        "**Random Forest Algorithm**"
      ]
    },
    {
      "cell_type": "code",
      "metadata": {
        "id": "CR2WLgmC6m6j",
        "colab": {
          "base_uri": "https://localhost:8080/",
          "height": 1000
        },
        "outputId": "cff72856-0ca6-4a40-d50e-d503d5ec646e"
      },
      "source": [
        "#Random Forest Algorithm\n",
        "from sklearn.ensemble.forest import RandomForestClassifier\n",
        "clf = RandomForestClassifier(n_estimators=20, max_depth=5,random_state=47)\n",
        "model=clf.fit(X_train, Y_train)\n",
        "print(\"Trained model :: \",model)\n",
        "predictions =model.predict(X_test)\n",
        "print(\"Train Accuracy :: \", accuracy_score(Y_train,model.predict(X_train)))\n",
        "print(\"Test Accuracy  :: \", accuracy_score(Y_test, predictions))\n",
        "cm1=confusion_matrix(Y_test, predictions)\n",
        "print(confusion_matrix(Y_test, predictions))\n",
        "print(classification_report(Y_test, predictions))\n",
        "plot_confusion_matrix(clf, X_test, Y_test)  # doctest: +SKIP\n",
        "plt.show()"
      ],
      "execution_count": null,
      "outputs": [
        {
          "output_type": "stream",
          "text": [
            "Trained model ::  RandomForestClassifier(bootstrap=True, ccp_alpha=0.0, class_weight=None,\n",
            "                       criterion='gini', max_depth=5, max_features='auto',\n",
            "                       max_leaf_nodes=None, max_samples=None,\n",
            "                       min_impurity_decrease=0.0, min_impurity_split=None,\n",
            "                       min_samples_leaf=1, min_samples_split=2,\n",
            "                       min_weight_fraction_leaf=0.0, n_estimators=20,\n",
            "                       n_jobs=None, oob_score=False, random_state=47, verbose=0,\n",
            "                       warm_start=False)\n",
            "Train Accuracy ::  0.5923344947735192\n",
            "Test Accuracy  ::  0.3194444444444444\n",
            "[[1 0 6 0 0 0 0 0 0 0 0]\n",
            " [0 3 9 0 0 1 0 0 0 0 0]\n",
            " [2 0 9 0 0 0 0 0 0 0 0]\n",
            " [0 0 1 7 0 0 0 0 0 0 0]\n",
            " [2 0 4 1 0 0 0 0 0 0 0]\n",
            " [1 1 0 0 0 1 0 0 0 0 0]\n",
            " [1 0 1 0 0 0 0 0 0 0 0]\n",
            " [3 0 0 0 0 0 0 0 0 0 0]\n",
            " [1 1 1 2 0 0 0 0 1 0 0]\n",
            " [0 1 1 0 0 0 0 0 0 1 0]\n",
            " [3 1 4 0 0 0 0 0 1 0 0]]\n",
            "              precision    recall  f1-score   support\n",
            "\n",
            "           0       0.07      0.14      0.10         7\n",
            "           1       0.43      0.23      0.30        13\n",
            "           2       0.25      0.82      0.38        11\n",
            "           3       0.70      0.88      0.78         8\n",
            "           4       0.00      0.00      0.00         7\n",
            "           5       0.50      0.33      0.40         3\n",
            "           6       0.00      0.00      0.00         2\n",
            "           7       0.00      0.00      0.00         3\n",
            "           8       0.50      0.17      0.25         6\n",
            "           9       1.00      0.33      0.50         3\n",
            "          10       0.00      0.00      0.00         9\n",
            "\n",
            "    accuracy                           0.32        72\n",
            "   macro avg       0.31      0.26      0.25        72\n",
            "weighted avg       0.30      0.32      0.27        72\n",
            "\n"
          ],
          "name": "stdout"
        },
        {
          "output_type": "stream",
          "text": [
            "/usr/local/lib/python3.6/dist-packages/sklearn/metrics/_classification.py:1272: UndefinedMetricWarning: Precision and F-score are ill-defined and being set to 0.0 in labels with no predicted samples. Use `zero_division` parameter to control this behavior.\n",
            "  _warn_prf(average, modifier, msg_start, len(result))\n"
          ],
          "name": "stderr"
        },
        {
          "output_type": "display_data",
          "data": {
            "image/png": "[encoded data removed]",
            "text/plain": [
              "<Figure size 432x288 with 2 Axes>"
            ]
          },
          "metadata": {
            "tags": [],
            "needs_background": "light"
          }
        }
      ]
    },
    {
      "cell_type": "markdown",
      "metadata": {
        "id": "6SWm5YDZ_Idt"
      },
      "source": [
        "**K-FOLD**"
      ]
    },
    {
      "cell_type": "code",
      "metadata": {
        "id": "hdOO83Om7EEh",
        "colab": {
          "base_uri": "https://localhost:8080/"
        },
        "outputId": "4df9fe3f-8913-4439-a880-86d314ad7f2e"
      },
      "source": [
        "from sklearn.model_selection import cross_val_score\n",
        "from sklearn import ensemble\n",
        "clf =ensemble.forest.RandomForestClassifier()\n",
        "scores = cross_val_score(clf, X, Y, cv=10) #CV means K\n",
        "print(scores)\n",
        "print(\"Accuracy: %0.2f (+/- %0.2f)\" % (scores.mean(), scores.std() * 2))"
      ],
      "execution_count": null,
      "outputs": [
        {
          "output_type": "stream",
          "text": [
            "/usr/local/lib/python3.6/dist-packages/sklearn/model_selection/_split.py:667: UserWarning: The least populated class in y has only 1 members, which is less than n_splits=10.\n",
            "  % (min_groups, self.n_splits)), UserWarning)\n"
          ],
          "name": "stderr"
        },
        {
          "output_type": "stream",
          "text": [
            "[0.36111111 0.36111111 0.47222222 0.55555556 0.36111111 0.36111111\n",
            " 0.55555556 0.5        0.44444444 0.45714286]\n",
            "Accuracy: 0.44 (+/- 0.15)\n"
          ],
          "name": "stdout"
        }
      ]
    },
    {
      "cell_type": "code",
      "metadata": {
        "id": "Lg19BOce7F3z",
        "colab": {
          "base_uri": "https://localhost:8080/"
        },
        "outputId": "ff41a0b6-4740-4362-f501-91bba33b8a91"
      },
      "source": [
        "from sklearn.model_selection import cross_val_score\n",
        "from sklearn import ensemble\n",
        "clf =ensemble.forest.RandomForestClassifier()\n",
        "scores = cross_val_score(clf, X, Y, cv=5) #CV means K\n",
        "print(scores)\n",
        "print(\"Accuracy: %0.2f (+/- %0.2f)\" % (scores.mean(), scores.std() * 2))"
      ],
      "execution_count": null,
      "outputs": [
        {
          "output_type": "stream",
          "text": [
            "/usr/local/lib/python3.6/dist-packages/sklearn/model_selection/_split.py:667: UserWarning: The least populated class in y has only 1 members, which is less than n_splits=5.\n",
            "  % (min_groups, self.n_splits)), UserWarning)\n"
          ],
          "name": "stderr"
        },
        {
          "output_type": "stream",
          "text": [
            "[0.36111111 0.48611111 0.34722222 0.48611111 0.45070423]\n",
            "Accuracy: 0.43 (+/- 0.12)\n"
          ],
          "name": "stdout"
        }
      ]
    },
    {
      "cell_type": "markdown",
      "metadata": {
        "id": "OThjjhWzVnwo"
      },
      "source": [
        "**JACKKNIFE for RFA**"
      ]
    },
    {
      "cell_type": "code",
      "metadata": {
        "id": "5m-fjhSWVPym",
        "colab": {
          "base_uri": "https://localhost:8080/"
        },
        "outputId": "70460d9b-aa8d-43ee-c876-abc484abec9f"
      },
      "source": [
        "from sklearn import ensemble\n",
        "from sklearn.model_selection import LeaveOneOut\n",
        "from sklearn.model_selection import cross_val_score\n",
        "loocv = LeaveOneOut()\n",
        "clf =ensemble.RandomForestClassifier()\n",
        "results_loocv = cross_val_score(clf, X, Y, cv=loocv)\n",
        "#print(results_loocv)\n",
        "results_loocv.shape\n",
        "print(\"Accuracy: %.2f%%\" % (results_loocv.mean()*100.0))"
      ],
      "execution_count": null,
      "outputs": [
        {
          "output_type": "stream",
          "text": [
            "Accuracy: 42.06%\n"
          ],
          "name": "stdout"
        }
      ]
    },
    {
      "cell_type": "markdown",
      "metadata": {
        "id": "8qas3g_G_Pr-"
      },
      "source": [
        "**Ada-Boost Algorithm**"
      ]
    },
    {
      "cell_type": "code",
      "metadata": {
        "id": "Mvzqiy4g6p31",
        "colab": {
          "base_uri": "https://localhost:8080/",
          "height": 935
        },
        "outputId": "189373f4-74b8-428a-f522-4378255e7cbe"
      },
      "source": [
        "#Ada-Boost Algorithm\n",
        "from sklearn.ensemble import AdaBoostClassifier\n",
        "from sklearn.metrics import classification_report, confusion_matrix\n",
        "clf = AdaBoostClassifier(n_estimators=100, random_state=0)\n",
        "Model=clf.fit(X_train,Y_train)\n",
        "print(\"Trained model :: \",Model)\n",
        "Ada_pred =Model.predict(X_test)\n",
        "print(\"Train Accuracy :: \", accuracy_score(Y_train,Model.predict(X_train)))\n",
        "print(\"Test Accuracy  :: \", accuracy_score(Y_test, Ada_pred))\n",
        "cm1=confusion_matrix(Y_test, Ada_pred)\n",
        "print(confusion_matrix(Y_test, Ada_pred))\n",
        "print(classification_report(Y_test, Ada_pred))\n",
        "plot_confusion_matrix(clf, X_test, Y_test)  # doctest: +SKIP\n",
        "plt.show()"
      ],
      "execution_count": null,
      "outputs": [
        {
          "output_type": "stream",
          "text": [
            "Trained model ::  AdaBoostClassifier(algorithm='SAMME.R', base_estimator=None, learning_rate=1.0,\n",
            "                   n_estimators=100, random_state=0)\n",
            "Train Accuracy ::  0.1916376306620209\n",
            "Test Accuracy  ::  0.18055555555555555\n",
            "[[ 0  0  5  0  0  0  0  0  0  0  0]\n",
            " [ 1  0  8  0  0  0  0  0  0  0  0]\n",
            " [ 0  0 13  0  0  0  0  0  0  0  0]\n",
            " [ 7  0  3  0  0  0  0  0  0  0  0]\n",
            " [ 0  0  6  0  0  0  0  0  0  0  0]\n",
            " [ 0  0  2  0  0  0  0  0  0  0  0]\n",
            " [ 0  0  4  0  0  0  0  0  0  0  0]\n",
            " [ 0  0  1  0  0  0  0  0  0  0  0]\n",
            " [ 1  0 10  0  0  0  0  0  0  0  0]\n",
            " [ 0  0  5  0  0  0  0  0  0  0  0]\n",
            " [ 0  0  6  0  0  0  0  0  0  0  0]]\n",
            "              precision    recall  f1-score   support\n",
            "\n",
            "           0       0.00      0.00      0.00         5\n",
            "           1       0.00      0.00      0.00         9\n",
            "           2       0.21      1.00      0.34        13\n",
            "           3       0.00      0.00      0.00        10\n",
            "           4       0.00      0.00      0.00         6\n",
            "           5       0.00      0.00      0.00         2\n",
            "           6       0.00      0.00      0.00         4\n",
            "           7       0.00      0.00      0.00         1\n",
            "           8       0.00      0.00      0.00        11\n",
            "           9       0.00      0.00      0.00         5\n",
            "          10       0.00      0.00      0.00         6\n",
            "\n",
            "    accuracy                           0.18        72\n",
            "   macro avg       0.02      0.09      0.03        72\n",
            "weighted avg       0.04      0.18      0.06        72\n",
            "\n"
          ],
          "name": "stdout"
        },
        {
          "output_type": "stream",
          "text": [
            "/usr/local/lib/python3.6/dist-packages/sklearn/metrics/_classification.py:1272: UndefinedMetricWarning: Precision and F-score are ill-defined and being set to 0.0 in labels with no predicted samples. Use `zero_division` parameter to control this behavior.\n",
            "  _warn_prf(average, modifier, msg_start, len(result))\n"
          ],
          "name": "stderr"
        },
        {
          "output_type": "display_data",
          "data": {
            "image/png": "[encoded data removed]",
            "text/plain": [
              "<Figure size 432x288 with 2 Axes>"
            ]
          },
          "metadata": {
            "tags": [],
            "needs_background": "light"
          }
        }
      ]
    },
    {
      "cell_type": "markdown",
      "metadata": {
        "id": "Wi95TRbQ_U4O"
      },
      "source": [
        "**K-FOLD**"
      ]
    },
    {
      "cell_type": "code",
      "metadata": {
        "id": "NET9nt0S6tFc",
        "colab": {
          "base_uri": "https://localhost:8080/"
        },
        "outputId": "2d1df750-3195-4149-818b-2636ac14e861"
      },
      "source": [
        "from sklearn.model_selection import cross_val_score\n",
        "from sklearn import ensemble\n",
        "clf =  ensemble.AdaBoostClassifier()\n",
        "scores = cross_val_score(clf, X, Y, cv=10) #CV means K\n",
        "print(scores)\n",
        "print(\"Accuracy: %0.2f (+/- %0.2f)\" % (scores.mean(), scores.std() * 2))"
      ],
      "execution_count": null,
      "outputs": [
        {
          "output_type": "stream",
          "text": [
            "/usr/local/lib/python3.6/dist-packages/sklearn/model_selection/_split.py:667: UserWarning: The least populated class in y has only 1 members, which is less than n_splits=10.\n",
            "  % (min_groups, self.n_splits)), UserWarning)\n"
          ],
          "name": "stderr"
        },
        {
          "output_type": "stream",
          "text": [
            "[0.38888889 0.30555556 0.30555556 0.22222222 0.27777778 0.19444444\n",
            " 0.27777778 0.22222222 0.27777778 0.22857143]\n",
            "Accuracy: 0.27 (+/- 0.11)\n"
          ],
          "name": "stdout"
        }
      ]
    },
    {
      "cell_type": "code",
      "metadata": {
        "id": "MAxcrNvz82_V",
        "colab": {
          "base_uri": "https://localhost:8080/"
        },
        "outputId": "892f4212-67be-4406-d3ca-5368771a408d"
      },
      "source": [
        "from sklearn.model_selection import cross_val_score\n",
        "from sklearn import ensemble\n",
        "clf =  ensemble.AdaBoostClassifier()\n",
        "scores = cross_val_score(clf, X, Y, cv=5) #CV means K\n",
        "print(scores)\n",
        "print(\"Accuracy: %0.2f (+/- %0.2f)\" % (scores.mean(), scores.std() * 2))"
      ],
      "execution_count": null,
      "outputs": [
        {
          "output_type": "stream",
          "text": [
            "/usr/local/lib/python3.6/dist-packages/sklearn/model_selection/_split.py:667: UserWarning: The least populated class in y has only 1 members, which is less than n_splits=5.\n",
            "  % (min_groups, self.n_splits)), UserWarning)\n"
          ],
          "name": "stderr"
        },
        {
          "output_type": "stream",
          "text": [
            "[0.27777778 0.26388889 0.19444444 0.26388889 0.25352113]\n",
            "Accuracy: 0.25 (+/- 0.06)\n"
          ],
          "name": "stdout"
        }
      ]
    },
    {
      "cell_type": "markdown",
      "metadata": {
        "id": "cAowHk4oV36I"
      },
      "source": [
        "**JACKKNIFE for ABA**"
      ]
    },
    {
      "cell_type": "code",
      "metadata": {
        "id": "ON1UMt8bVwbg",
        "colab": {
          "base_uri": "https://localhost:8080/"
        },
        "outputId": "c3f5226f-f2fa-495f-cc4d-4d09463d49e4"
      },
      "source": [
        "from sklearn import ensemble\n",
        "from sklearn.model_selection import LeaveOneOut\n",
        "from sklearn.model_selection import cross_val_score\n",
        "\n",
        "loocv = LeaveOneOut()\n",
        "clf =  ensemble.AdaBoostClassifier()\n",
        "results_loocv = cross_val_score(clf, X, Y, cv=loocv)\n",
        "#print(results_loocv)\n",
        "results_loocv.shape\n",
        "print(\"Accuracy: %.2f%%\" % (results_loocv.mean()*100.0))"
      ],
      "execution_count": null,
      "outputs": [
        {
          "output_type": "stream",
          "text": [
            "Accuracy: 28.41%\n"
          ],
          "name": "stdout"
        }
      ]
    }
  ]
}